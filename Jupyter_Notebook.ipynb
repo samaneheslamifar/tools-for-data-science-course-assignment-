{
 "cells": [
  {
   "cell_type": "markdown",
   "metadata": {},
   "source": [
    "<center>\n",
    "    <img src=\"https://cf-courses-data.s3.us.cloud-object-storage.appdomain.cloud/IBMDeveloperSkillsNetwork-DS0105EN-SkillsNetwork/labs/Module2/images/SN_web_lightmode.png\" width=\"300\" alt=\"cognitiveclass.ai logo\"  />\n",
    "</center>\n"
   ]
  },
  {
   "cell_type": "markdown",
   "metadata": {},
   "source": [
    "#### Add your code below following the instructions given in the course\n"
   ]
  },
  {
   "cell_type": "markdown",
   "metadata": {},
   "source": [
    "# \"My Jupyter Notebook on IBM Watson Studio\""
   ]
  },
  {
   "cell_type": "markdown",
   "metadata": {},
   "source": [
    "**I am Samaneh Eslamifar**\n",
    "\n",
    "I am a software engineer that is very enthusiastic to machine learning and other AI feilds. "
   ]
  },
  {
   "cell_type": "markdown",
   "metadata": {},
   "source": [
    "*I am interested in data science because it has a very good perspective and increases the ability to analyze issues*"
   ]
  },
  {
   "cell_type": "markdown",
   "metadata": {},
   "source": [
    "### the code in the below cell will print this message : \"Hello , This is my informaiton\""
   ]
  },
  {
   "cell_type": "code",
   "execution_count": 3,
   "metadata": {},
   "outputs": [
    {
     "name": "stdout",
     "output_type": "stream",
     "text": [
      "Hello , This is my personal informaiton and assignment\n"
     ]
    }
   ],
   "source": [
    "print(\"Hello , This is my personal informaiton and assignment\")"
   ]
  },
  {
   "cell_type": "code",
   "execution_count": null,
   "metadata": {},
   "outputs": [],
   "source": [
    "**Creating a 3-4 table:**\n",
    "\n",
    "|first name      |last name      |feild  |\n",
    "| -------------  |:-------------:| -----:|\n",
    "| samaneh        | Eslamifar     |ML     |\n",
    "|Sama            |Azizi          |Web    |\n",
    "|Sina            |Aziz           |ML     |\n",
    "\n",
    "\n",
    "**insering Horizontal Line: **\n",
    "\n",
    "*Name:Samaneh Eslamifar*\n",
    "\n",
    "---\n",
    "\n",
    "Country:\n",
    "\n",
    "***\n",
    "\n",
    "\n",
    "**Highlighting the word ML And DL:**\n",
    "\n",
    "my favorite feilds are  `ML` and  `DL` .\n",
    "\n",
    "\n",
    "\n",
    "\n",
    "**embed link:**\n",
    "<a href=\"https://github.com/samaneheslamifar\"> github</a>\n"
   ]
  }
 ],
 "metadata": {
  "kernelspec": {
   "display_name": "Python",
   "language": "python",
   "name": "conda-env-python-py"
  },
  "language_info": {
   "codemirror_mode": {
    "name": "ipython",
    "version": 3
   },
   "file_extension": ".py",
   "mimetype": "text/x-python",
   "name": "python",
   "nbconvert_exporter": "python",
   "pygments_lexer": "ipython3",
   "version": "3.7.12"
  }
 },
 "nbformat": 4,
 "nbformat_minor": 4
}
